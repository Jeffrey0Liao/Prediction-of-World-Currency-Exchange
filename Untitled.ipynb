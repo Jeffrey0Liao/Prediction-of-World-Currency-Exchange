{
 "cells": [
  {
   "cell_type": "code",
   "execution_count": 22,
   "metadata": {},
   "outputs": [],
   "source": [
    "#运行这个模块\n",
    "import pandas as pd\n",
    "from pandas import DataFrame\n",
    "import numpy as np"
   ]
  },
  {
   "cell_type": "code",
   "execution_count": 23,
   "metadata": {
    "scrolled": false
   },
   "outputs": [],
   "source": [
    "#运行这个模块\n",
    "er = pd.read_excel('maojirenshiSB.xlsx', sheet_name='Sheet1')"
   ]
  },
  {
   "cell_type": "code",
   "execution_count": 24,
   "metadata": {},
   "outputs": [
    {
     "name": "stdout",
     "output_type": "stream",
     "text": [
      "   TOT  IDX2015  Unnamed: 2 Unnamed: 3  Unnamed: 4 Unnamed: 5  Unnamed: 6  \\\n",
      "0  NaN      AUS         NaN        AUT         NaN        BEL         NaN   \n",
      "1  NaN  3.43627    3.436267        NaN         0.0        NaN         0.0   \n",
      "2  NaN  3.52914         NaN        NaN         NaN        NaN         NaN   \n",
      "3  NaN  3.62201         NaN        NaN         NaN        NaN         NaN   \n",
      "4  NaN  3.71488         NaN        NaN         NaN        NaN         NaN   \n",
      "5  NaN  3.80775         NaN        NaN         NaN        NaN         NaN   \n",
      "6  NaN  3.80775         NaN        NaN         NaN        NaN         NaN   \n",
      "7  NaN  3.90063         NaN        NaN         NaN        NaN         NaN   \n",
      "8  NaN   3.9935         NaN        NaN         NaN        NaN         NaN   \n",
      "9  NaN  4.08637         NaN        NaN         NaN        NaN         NaN   \n",
      "\n",
      "  Unnamed: 7  Unnamed: 8 Unnamed: 9     ...       Unnamed: 93 Unnamed: 94  \\\n",
      "0        BRA         NaN        CAN     ...               SVN         NaN   \n",
      "1        NaN         0.0        NaN     ...               NaN         0.0   \n",
      "2        NaN         NaN        NaN     ...               NaN         NaN   \n",
      "3        NaN         NaN    9.56018     ...               NaN         NaN   \n",
      "4        NaN         NaN    9.56018     ...               NaN         NaN   \n",
      "5        NaN         NaN    9.61285     ...               NaN         NaN   \n",
      "6        NaN         NaN    9.69186     ...               NaN         NaN   \n",
      "7        NaN         NaN    9.63919     ...               NaN         NaN   \n",
      "8        NaN         NaN     9.7182     ...               NaN         NaN   \n",
      "9        NaN         NaN    9.90255     ...               NaN         NaN   \n",
      "\n",
      "   Unnamed: 95 Unnamed: 96  Unnamed: 97 Unnamed: 98  Unnamed: 99 Unnamed: 100  \\\n",
      "0          SWE         NaN          TUR         NaN          USA          NaN   \n",
      "1          NaN         0.0          NaN         0.0          NaN          0.0   \n",
      "2          NaN         NaN          NaN         NaN          NaN          NaN   \n",
      "3          NaN         NaN          NaN         NaN          NaN          NaN   \n",
      "4          NaN         NaN          NaN         NaN          NaN          NaN   \n",
      "5          NaN         NaN          NaN         NaN          NaN          NaN   \n",
      "6          NaN         NaN          NaN         NaN          NaN          NaN   \n",
      "7          NaN         NaN          NaN         NaN          NaN          NaN   \n",
      "8          NaN         NaN          NaN         NaN          NaN          NaN   \n",
      "9          NaN         NaN          NaN         NaN          NaN          NaN   \n",
      "\n",
      "   Unnamed: 101 Unnamed: 102  \n",
      "0           ZAF          NaN  \n",
      "1           NaN          0.0  \n",
      "2           NaN          NaN  \n",
      "3           NaN          NaN  \n",
      "4           NaN          NaN  \n",
      "5           NaN          NaN  \n",
      "6           NaN          NaN  \n",
      "7           NaN          NaN  \n",
      "8           NaN          NaN  \n",
      "9           NaN          NaN  \n",
      "\n",
      "[10 rows x 103 columns]\n"
     ]
    }
   ],
   "source": [
    "print(er.head(10))"
   ]
  },
  {
   "cell_type": "code",
   "execution_count": 25,
   "metadata": {},
   "outputs": [],
   "source": [
    "#运行这个模块\n",
    "def myFix(r1, r2, c):\n",
    "    diff = er.iloc[r2, c] - er.iloc[r1, c]\n",
    "    diff_count = r2 - r1\n",
    "    res = float(diff) / float(diff_count)\n",
    "    c_temp = er.iloc[r1, c]\n",
    "    for c_num in range(r1+1, r2):\n",
    "        c_value = c_temp + res;\n",
    "        c_temp = c_value\n",
    "        er.iloc[c_num, c] = c_value\n",
    "        "
   ]
  },
  {
   "cell_type": "code",
   "execution_count": 26,
   "metadata": {},
   "outputs": [],
   "source": [
    "#运行这个模块\n",
    "for ptr_outer in range(2, 103, 2):\n",
    "    j = 0\n",
    "    k = er.iloc[:, ptr_outer].size - 1\n",
    "    while np.isnan(er.iloc[j, ptr_outer]) or er.iloc[j, ptr_outer] == 0:\n",
    "        j += 1\n",
    "    while np.isnan(er.iloc[k, ptr_outer]):\n",
    "        k -= 1\n",
    "    for ptr in range(j, k):\n",
    "        if np.isnan(er.iloc[ptr+1, ptr_outer]) and ptr+1<=er.iloc[:, ptr_outer].size-1:\n",
    "            ptr_temp = ptr + 1\n",
    "            while np.isnan(er.iloc[ptr_temp, ptr_outer]):\n",
    "                ptr_temp = ptr_temp + 1\n",
    "            myFix(ptr, ptr_temp, ptr_outer)\n",
    "            ptr = ptr_temp"
   ]
  },
  {
   "cell_type": "code",
   "execution_count": 27,
   "metadata": {},
   "outputs": [],
   "source": [
    "#运行这个模块\n",
    "DataFrame(er).to_excel('maojirenshiSB.xlsx', sheet_name='Sheet1', index=False, header=True)"
   ]
  },
  {
   "cell_type": "code",
   "execution_count": 42,
   "metadata": {},
   "outputs": [
    {
     "name": "stdout",
     "output_type": "stream",
     "text": [
      "<class 'pandas.core.frame.DataFrame'>\n",
      "RangeIndex: 20087 entries, 0 to 20086\n",
      "Data columns (total 4 columns):\n",
      "Summary     20087 non-null datetime64[ns]\n",
      "Average1    14972 non-null float64\n",
      "Average2    11247 non-null float64\n",
      "Average     15824 non-null float64\n",
      "dtypes: datetime64[ns](1), float64(3)\n",
      "memory usage: 627.8 KB\n"
     ]
    }
   ],
   "source": [
    "er.info()"
   ]
  },
  {
   "cell_type": "code",
   "execution_count": 43,
   "metadata": {},
   "outputs": [
    {
     "name": "stdout",
     "output_type": "stream",
     "text": [
      "1\n"
     ]
    }
   ],
   "source": [
    "da = er.iloc[1,0]\n",
    "db = er.iloc[0,0]\n",
    "d = da - db\n",
    "print(d.days)"
   ]
  },
  {
   "cell_type": "code",
   "execution_count": 45,
   "metadata": {},
   "outputs": [
    {
     "name": "stderr",
     "output_type": "stream",
     "text": [
      "C:\\Users\\41713\\Anaconda3\\lib\\site-packages\\ipykernel_launcher.py:9: FutureWarning: set_value is deprecated and will be removed in a future release. Please use .at[] or .iat[] accessors instead\n",
      "  if __name__ == '__main__':\n"
     ]
    }
   ],
   "source": [
    "for ptr in range(2558, 17529-1):\n",
    "    if np.isnan(er.iloc[ptr+1, 2]) and ptr+1<=er.iloc[:, 2].size-1:\n",
    "        ptr_temp = ptr + 1\n",
    "        while np.isnan(er.iloc[ptr_temp, 2]):\n",
    "            ptr_temp = ptr_temp + 1\n",
    "        myFix(ptr, ptr_temp)\n",
    "        ptr = ptr_temp\n",
    "    "
   ]
  },
  {
   "cell_type": "code",
   "execution_count": 106,
   "metadata": {},
   "outputs": [
    {
     "name": "stderr",
     "output_type": "stream",
     "text": [
      "C:\\Users\\41713\\Anaconda3\\lib\\site-packages\\ipykernel_launcher.py:8: FutureWarning: set_value is deprecated and will be removed in a future release. Please use .at[] or .iat[] accessors instead\n",
      "  \n"
     ]
    }
   ],
   "source": [
    "def calAverage(v1, v2):\n",
    "    return float((v1 + v2)/2)\n",
    "\n",
    "for ptr1 in range(0, er.iloc[:, 0].size):\n",
    "    if not(np.isnan(er.iloc[ptr1, 3])):\n",
    "        continue\n",
    "    v = calAverage(er.iloc[ptr1, 1], er.iloc[ptr1, 2])\n",
    "    er.set_value(ptr1, \"Average\", v)"
   ]
  },
  {
   "cell_type": "code",
   "execution_count": 93,
   "metadata": {},
   "outputs": [],
   "source": [
    "def linearRegression(sy):\n",
    "    sx=list(range(0, sy.size))\n",
    "    Xsum=0.0\n",
    "    X2sum=0.0\n",
    "    Ysum=0.0\n",
    "    XY=0.0\n",
    "    n=len(sx)\n",
    "    for i in range(n):    \n",
    "        Xsum+=sx[i]    \n",
    "        Ysum+=sy.iloc[i]    \n",
    "        XY+=sx[i]*sy.iloc[i]    \n",
    "        X2sum+=sx[i]**2\n",
    "        k=(Xsum*Ysum/n-XY)/(Xsum**2/n-X2sum)\n",
    "    return k"
   ]
  },
  {
   "cell_type": "code",
   "execution_count": 66,
   "metadata": {},
   "outputs": [
    {
     "name": "stderr",
     "output_type": "stream",
     "text": [
      "C:\\Users\\41713\\Anaconda3\\lib\\site-packages\\ipykernel_launcher.py:13: RuntimeWarning: invalid value encountered in double_scalars\n",
      "  del sys.path[0]\n",
      "C:\\Users\\41713\\Anaconda3\\lib\\site-packages\\ipykernel_launcher.py:5: FutureWarning: set_value is deprecated and will be removed in a future release. Please use .at[] or .iat[] accessors instead\n",
      "  \"\"\"\n"
     ]
    }
   ],
   "source": [
    "k1 = linearRegression(er.iloc[2558:(2558+50), 2])\n",
    "flag = er.iloc[2558, 2]\n",
    "for count in range(2557, -1, -1):\n",
    "    flag -= k1\n",
    "    er.set_value(count, \"Average2\", flag)"
   ]
  },
  {
   "cell_type": "code",
   "execution_count": 99,
   "metadata": {},
   "outputs": [
    {
     "name": "stderr",
     "output_type": "stream",
     "text": [
      "C:\\Users\\41713\\Anaconda3\\lib\\site-packages\\ipykernel_launcher.py:13: RuntimeWarning: invalid value encountered in double_scalars\n",
      "  del sys.path[0]\n",
      "C:\\Users\\41713\\Anaconda3\\lib\\site-packages\\ipykernel_launcher.py:5: FutureWarning: set_value is deprecated and will be removed in a future release. Please use .at[] or .iat[] accessors instead\n",
      "  \"\"\"\n"
     ]
    }
   ],
   "source": [
    "k2 = linearRegression(er.iloc[(18380-2000):18380, 2])\n",
    "flag1 = er.iloc[18380, 2]\n",
    "for count in range(18381, 20087):\n",
    "    flag1 += k1\n",
    "    er.set_value(count, \"Average2\", flag1)"
   ]
  },
  {
   "cell_type": "code",
   "execution_count": 88,
   "metadata": {},
   "outputs": [],
   "source": [
    "def estimate(s1, sa):\n",
    "    sum = 0\n",
    "    for i in range(0, s1.size):\n",
    "        sum += (sa.iloc[i] - s1.iloc[i])\n",
    "    return (sum / s1.size)"
   ]
  },
  {
   "cell_type": "code",
   "execution_count": 90,
   "metadata": {},
   "outputs": [
    {
     "name": "stderr",
     "output_type": "stream",
     "text": [
      "C:\\Users\\41713\\Anaconda3\\lib\\site-packages\\ipykernel_launcher.py:4: FutureWarning: set_value is deprecated and will be removed in a future release. Please use .at[] or .iat[] accessors instead\n",
      "  after removing the cwd from sys.path.\n",
      "C:\\Users\\41713\\Anaconda3\\lib\\site-packages\\ipykernel_launcher.py:5: FutureWarning: set_value is deprecated and will be removed in a future release. Please use .at[] or .iat[] accessors instead\n",
      "  \"\"\"\n"
     ]
    }
   ],
   "source": [
    "bias =  estimate(er.iloc[(17529-50):17529, 1], er.iloc[(17529-50):17529, 3])\n",
    "\n",
    "for count1 in range(17530, 18381):\n",
    "    er.set_value(count1, \"Average1\", er.iloc[count1, 3]-bias)\n",
    "    er.set_value(count1, \"Average2\", er.iloc[count1, 3]+bias)"
   ]
  },
  {
   "cell_type": "code",
   "execution_count": 27,
   "metadata": {},
   "outputs": [
    {
     "name": "stdout",
     "output_type": "stream",
     "text": [
      "1.0\n",
      "0.8987\n",
      "nan\n",
      "0.4177\n",
      "357.73\n",
      "nan\n",
      "nan\n",
      "nan\n",
      "nan\n",
      "nan\n",
      "nan\n",
      "1.0109\n",
      "4.318\n",
      "nan\n",
      "nan\n",
      "nan\n",
      "7.485\n",
      "nan\n",
      "nan\n",
      "nan\n",
      "nan\n",
      "nan\n",
      "nan\n",
      "nan\n",
      "nan\n",
      "nan\n",
      "nan\n",
      "nan\n",
      "nan\n",
      "nan\n",
      "3.0867\n",
      "7.1359\n",
      "1.1138\n",
      "nan\n",
      "nan\n",
      "nan\n",
      "nan\n",
      "nan\n",
      "nan\n",
      "nan\n",
      "nan\n",
      "nan\n",
      "nan\n",
      "5.1643\n",
      "nan\n",
      "2.3938\n",
      "nan\n",
      "nan\n",
      "nan\n",
      "nan\n",
      "nan\n"
     ]
    }
   ],
   "source": [
    "for ptr_outer in range(3, 204, 4):\n",
    "    print(er.iloc[0, ptr_outer])"
   ]
  },
  {
   "cell_type": "code",
   "execution_count": 16,
   "metadata": {},
   "outputs": [
    {
     "name": "stdout",
     "output_type": "stream",
     "text": [
      "2019Aug. 23\n",
      "2019-08-23 00:00:00\n"
     ]
    }
   ],
   "source": [
    "import datetime\n",
    "def strToTime(d):\n",
    "    y = str(datetime.datetime.now().year)\n",
    "    yd = y + d\n",
    "    t = datetime.datetime.strptime(yd, '%Y%b. %d')"
   ]
  },
  {
   "cell_type": "code",
   "execution_count": null,
   "metadata": {},
   "outputs": [],
   "source": []
  }
 ],
 "metadata": {
  "kernelspec": {
   "display_name": "Python 3",
   "language": "python",
   "name": "python3"
  },
  "language_info": {
   "codemirror_mode": {
    "name": "ipython",
    "version": 3
   },
   "file_extension": ".py",
   "mimetype": "text/x-python",
   "name": "python",
   "nbconvert_exporter": "python",
   "pygments_lexer": "ipython3",
   "version": "3.7.0"
  }
 },
 "nbformat": 4,
 "nbformat_minor": 2
}
