{
 "cells": [
  {
   "cell_type": "code",
   "execution_count": 66,
   "metadata": {},
   "outputs": [],
   "source": [
    "import pandas as pd\n",
    "from pandas import DataFrame\n",
    "import numpy as np\n",
    "\n",
    "import datetime\n",
    "\n",
    "from bs4 import BeautifulSoup\n",
    "import requests\n",
    "import re\n",
    "\n",
    "# webbased information preprocess _federal reserve_\n",
    "url = 'https://www.federalreserve.gov/releases/h10/current/default.htm'\n",
    "response = requests.get(url)\n",
    "demo = response.text\n",
    "soup = BeautifulSoup(demo, 'html.parser')\n",
    "select1 = soup.find_all([ 'th', 'td'])\n",
    "selectDate = soup.find_all(['th'])\n",
    "\n",
    "# webbased information preprocess _bangko sentral_\n",
    "url1 = 'http://www.bsp.gov.ph/statistics/statistics_exchrate.asp'\n",
    "response1 = requests.get(url1)\n",
    "demo1 = response1.text\n",
    "soup1 = BeautifulSoup(demo1, 'html.parser')\n",
    "select2 = soup1.find_all(['tr'])\n",
    "\n",
    "# open the updating file\n",
    "fl = pd.read_excel('C:/Users/41713/python_demo/Cur_USD.xlsx', sheet_name = 'Currencies USD')\n"
   ]
  },
  {
   "cell_type": "code",
   "execution_count": 67,
   "metadata": {},
   "outputs": [
    {
     "name": "stdout",
     "output_type": "stream",
     "text": [
      "2019-09-02 00:00:00\n"
     ]
    }
   ],
   "source": [
    "def strToTime(d):\n",
    "    y = str(datetime.datetime.now().year)\n",
    "    yd = y + d\n",
    "    t = datetime.datetime.strptime(yd, '%Y %b. %d  ')\n",
    "    return t\n",
    "    \n",
    "print(strToTime(selectDate[2].string))"
   ]
  },
  {
   "cell_type": "code",
   "execution_count": 68,
   "metadata": {},
   "outputs": [
    {
     "name": "stdout",
     "output_type": "stream",
     "text": [
      "[datetime.datetime(2019, 9, 2, 0, 0), datetime.datetime(2019, 9, 3, 0, 0), datetime.datetime(2019, 9, 4, 0, 0), datetime.datetime(2019, 9, 5, 0, 0), datetime.datetime(2019, 9, 6, 0, 0)]\n"
     ]
    }
   ],
   "source": [
    "# predefine dictionary structure as data\n",
    "data = {}\n",
    "#initialize data\n",
    "data['DATE'] = []\n",
    "for a in range(2, 7):\n",
    "    d = strToTime(selectDate[a].string)\n",
    "    data[\"DATE\"].append(d)\n",
    "for b in range(2, 27):\n",
    "    data[str(fl.iloc[3, b])] = []\n",
    "    \n",
    "\n",
    "for ptr in range (0, len(select1)):\n",
    "    for ptr1 in range(2, 27):\n",
    "        if select1[ptr].string.find(str(fl.iloc[3, ptr1])) != (-1):\n",
    "            if select1[ptr].string.find('UNITED STATES') != (-1):\n",
    "                continue\n",
    "            myKey = str(fl.iloc[3, ptr1])\n",
    "            myValue = []\n",
    "            ptr2 = 0\n",
    "            for ptr2 in range (2, 7):\n",
    "                myValue.append(select1[ptr + ptr2].string)\n",
    "            data[myKey] = myValue\n",
    "\n",
    "print(data['DATE'])"
   ]
  },
  {
   "cell_type": "code",
   "execution_count": 69,
   "metadata": {},
   "outputs": [
    {
     "name": "stdout",
     "output_type": "stream",
     "text": [
      "[datetime.datetime(2019, 9, 2, 0, 0), datetime.datetime(2019, 9, 3, 0, 0), datetime.datetime(2019, 9, 4, 0, 0), datetime.datetime(2019, 9, 5, 0, 0), datetime.datetime(2019, 9, 6, 0, 0)]\n",
      "[]\n",
      "['       ND', '   0.6758', '   0.6796', '   0.6820', '   0.6856']\n",
      "[]\n",
      "['       ND', '   1.2086', '   1.2190', '   1.2337', '   1.2299']\n",
      "['       ND', ' 105.8800', ' 106.2800', ' 106.9600', ' 106.8000']\n",
      "['       ND', '   4.1726', '   4.1140', '   4.0908', '   4.0643']\n",
      "['       ND', '   1.3332', '   1.3248', '   1.3238', '   1.3170']\n",
      "['       ND', '   0.9872', '   0.9817', '   0.9868', '   0.9866']\n",
      "['       ND', '   7.1786', '   7.1440', '   7.1468', '   7.1131']\n",
      "['       ND', '   6.7988', '   6.7648', '   6.7584', '   6.7568']\n",
      "['       ND', '   7.8425', '   7.8386', '   7.8378', '   7.8389']\n",
      "['       ND', '  72.2000', '  72.1100', '  71.8400', '  71.6800']\n",
      "['       ND', '1212.4400', '1207.8400', '1200.1800', '1196.8100']\n",
      "['       ND', ' 180.2000', ' 180.4500', ' 180.6500', ' 180.8000']\n",
      "['       ND', '  19.9920', '  19.7790', '  19.6935', '  19.5575']\n",
      "['       ND', '   4.2189', '   4.2040', '   4.1855', '   4.1770']\n",
      "['       ND', '   9.1034', '   9.0368', '   8.9955', '   8.9668']\n",
      "['       ND', '   0.6326', '   0.6354', '   0.6376', '   0.6439']\n",
      "[]\n",
      "['       ND', '   9.8378', '   9.7519', '   9.6796', '   9.6179']\n",
      "['       ND', '   1.3906', '   1.3842', '   1.3841', '   1.3797']\n",
      "['       ND', '  30.6000', '  30.5600', '  30.6800', '  30.6200']\n",
      "['       ND', '  31.3800', '  31.3000', '  31.2600', '  31.2200']\n",
      "['       ND', '  15.1275', '  14.8025', '  14.8475', '  14.7525']\n",
      "['       ND', ' 23271.82', ' 23781.19', ' 23616.41', ' 20907.52']\n",
      "@@@\n"
     ]
    }
   ],
   "source": [
    "mySimple = []\n",
    "mySlice = select2[7].find_all(['th', 'td'])\n",
    "for item in mySlice:\n",
    "    if not(item.string is None):\n",
    "        mySimple.append(item)\n",
    "\n",
    "for item in data:\n",
    "    print(data[item])\n",
    "        \n",
    "ptr = 0\n",
    "for ptr in range(0, len(mySimple)):\n",
    "    for ptr1 in range(2, 27):\n",
    "        if mySimple[ptr].string.find(str(fl.iloc[3, ptr1])) != (-1) and data[str(fl.iloc[3, ptr1])] == []:\n",
    "            data[str(fl.iloc[3, ptr1])] = ['0', '0', '0', '0', mySimple[ptr+4].string]\n",
    "            print('@@@')\n",
    "            \n",
    "\n"
   ]
  },
  {
   "cell_type": "code",
   "execution_count": 70,
   "metadata": {},
   "outputs": [
    {
     "name": "stdout",
     "output_type": "stream",
     "text": [
      "DATE   [datetime.datetime(2019, 9, 2, 0, 0), datetime.datetime(2019, 9, 3, 0, 0), datetime.datetime(2019, 9, 4, 0, 0), datetime.datetime(2019, 9, 5, 0, 0), datetime.datetime(2019, 9, 6, 0, 0)]\n",
      "UNITED STATES   ['0', '0', '0', '0', '1.000000']\n",
      "AUSTRALIA   ['       ND', '   0.6758', '   0.6796', '   0.6820', '   0.6856']\n",
      "EUROPE EMU   []\n",
      "UNITED KINGDOM   ['       ND', '   1.2086', '   1.2190', '   1.2337', '   1.2299']\n",
      "JAPAN   ['       ND', ' 105.8800', ' 106.2800', ' 106.9600', ' 106.8000']\n",
      "BRAZIL   ['       ND', '   4.1726', '   4.1140', '   4.0908', '   4.0643']\n",
      "CANADA   ['       ND', '   1.3332', '   1.3248', '   1.3238', '   1.3170']\n",
      "SWITZERLAND   ['       ND', '   0.9872', '   0.9817', '   0.9868', '   0.9866']\n",
      "CHINA   ['       ND', '   7.1786', '   7.1440', '   7.1468', '   7.1131']\n",
      "DENMARK   ['       ND', '   6.7988', '   6.7648', '   6.7584', '   6.7568']\n",
      "HONG KONG   ['       ND', '   7.8425', '   7.8386', '   7.8378', '   7.8389']\n",
      "INDIA   ['       ND', '  72.2000', '  72.1100', '  71.8400', '  71.6800']\n",
      "KOREA   ['       ND', '1212.4400', '1207.8400', '1200.1800', '1196.8100']\n",
      "SRI LANKA   ['       ND', ' 180.2000', ' 180.4500', ' 180.6500', ' 180.8000']\n",
      "MEXICO   ['       ND', '  19.9920', '  19.7790', '  19.6935', '  19.5575']\n",
      "MALAYSIA   ['       ND', '   4.2189', '   4.2040', '   4.1855', '   4.1770']\n",
      "NORWAY   ['       ND', '   9.1034', '   9.0368', '   8.9955', '   8.9668']\n",
      "NEW ZEALAND   ['       ND', '   0.6326', '   0.6354', '   0.6376', '   0.6439']\n",
      "PHILIPPINES   []\n",
      "SWEDEN   ['       ND', '   9.8378', '   9.7519', '   9.6796', '   9.6179']\n",
      "SINGAPORE   ['       ND', '   1.3906', '   1.3842', '   1.3841', '   1.3797']\n",
      "THAILAND   ['       ND', '  30.6000', '  30.5600', '  30.6800', '  30.6200']\n",
      "TAIWAN   ['       ND', '  31.3800', '  31.3000', '  31.2600', '  31.2200']\n",
      "SOUTH AFRICA   ['       ND', '  15.1275', '  14.8025', '  14.8475', '  14.7525']\n",
      "VENEZUELA   ['       ND', ' 23271.82', ' 23781.19', ' 23616.41', ' 20907.52']\n"
     ]
    }
   ],
   "source": [
    "for item in data:\n",
    "    print(item + '   ' + str(data[item]))\n",
    "\n",
    "df = pd.DataFrame(dict([(k, pd.Series(v)) for k, v in data.items()]))\n",
    "\n",
    "df.to_excel('dataCatched.xlsx', sheet_name = 'sheet1', encoding = 'utf-8', index = False, header = True)"
   ]
  },
  {
   "cell_type": "code",
   "execution_count": 13,
   "metadata": {},
   "outputs": [
    {
     "name": "stdout",
     "output_type": "stream",
     "text": [
      "['1949', '9', '15']\n",
      "1949/9/15\n"
     ]
    }
   ],
   "source": [
    "import pandas as pd\n",
    "fl2 = pd.read_excel('', sheet_name = 'Sheet1')\n",
    "for ptr in range(0, fl2.iloc[:, 0]):\n",
    "    if np.isnan(fl2.iloc[ptr, 0]):\n",
    "        continue\n",
    "    t = datetime.datetime.strptime(fl2.iloc[ptr, 0], '%d/%m/%Y')\n",
    "    fl2.iloc[ptr, 0] = t"
   ]
  },
  {
   "cell_type": "code",
   "execution_count": 14,
   "metadata": {},
   "outputs": [
    {
     "name": "stdout",
     "output_type": "stream",
     "text": [
      "1949-09-15 00:00:00\n"
     ]
    }
   ],
   "source": [
    "import datetime\n",
    "s1 = '15-9-1949'\n",
    "t = datetime.datetime.strptime(s1, '%d-%m-%Y')\n",
    "print(t)"
   ]
  },
  {
   "cell_type": "code",
   "execution_count": 42,
   "metadata": {},
   "outputs": [
    {
     "name": "stdout",
     "output_type": "stream",
     "text": [
      " *AUSTRALIA     @@@\n",
      "AUSTRALIA@@@\n"
     ]
    },
    {
     "ename": "AttributeError",
     "evalue": "'NoneType' object has no attribute 'find_next'",
     "output_type": "error",
     "traceback": [
      "\u001b[1;31m---------------------------------------------------------------------------\u001b[0m",
      "\u001b[1;31mAttributeError\u001b[0m                            Traceback (most recent call last)",
      "\u001b[1;32m<ipython-input-42-4f8171fcf967>\u001b[0m in \u001b[0;36m<module>\u001b[1;34m()\u001b[0m\n\u001b[0;32m      7\u001b[0m             \u001b[0mprint\u001b[0m\u001b[1;33m(\u001b[0m\u001b[0mchild\u001b[0m\u001b[1;33m.\u001b[0m\u001b[0mstring\u001b[0m \u001b[1;33m+\u001b[0m \u001b[1;34m'@@@'\u001b[0m\u001b[1;33m)\u001b[0m\u001b[1;33m\u001b[0m\u001b[0m\n\u001b[0;32m      8\u001b[0m             \u001b[0mprint\u001b[0m\u001b[1;33m(\u001b[0m\u001b[0mstr\u001b[0m\u001b[1;33m(\u001b[0m\u001b[0mfl\u001b[0m\u001b[1;33m.\u001b[0m\u001b[0miloc\u001b[0m\u001b[1;33m[\u001b[0m\u001b[1;36m3\u001b[0m\u001b[1;33m,\u001b[0m \u001b[0mptr\u001b[0m\u001b[1;33m]\u001b[0m\u001b[1;33m)\u001b[0m \u001b[1;33m+\u001b[0m \u001b[1;34m'@@@'\u001b[0m\u001b[1;33m)\u001b[0m\u001b[1;33m\u001b[0m\u001b[0m\n\u001b[1;32m----> 9\u001b[1;33m             \u001b[0mprint\u001b[0m\u001b[1;33m(\u001b[0m\u001b[0mchild\u001b[0m\u001b[1;33m.\u001b[0m\u001b[0mfind_next\u001b[0m\u001b[1;33m(\u001b[0m\u001b[1;33m)\u001b[0m\u001b[1;33m.\u001b[0m\u001b[0mfind_next\u001b[0m\u001b[1;33m(\u001b[0m\u001b[1;33m)\u001b[0m\u001b[1;33m.\u001b[0m\u001b[0mstring\u001b[0m \u001b[1;33m+\u001b[0m\u001b[1;34m'@@@'\u001b[0m\u001b[1;33m)\u001b[0m\u001b[1;33m\u001b[0m\u001b[0m\n\u001b[0m\u001b[0;32m     10\u001b[0m \u001b[1;33m\u001b[0m\u001b[0m\n\u001b[0;32m     11\u001b[0m             \u001b[0mchild_cpy\u001b[0m \u001b[1;33m=\u001b[0m \u001b[0mchild\u001b[0m\u001b[1;33m.\u001b[0m\u001b[0mfind_next\u001b[0m\u001b[1;33m(\u001b[0m\u001b[1;33m)\u001b[0m\u001b[1;33m.\u001b[0m\u001b[0mfind_next\u001b[0m\u001b[1;33m(\u001b[0m\u001b[1;33m)\u001b[0m\u001b[1;33m\u001b[0m\u001b[0m\n",
      "\u001b[1;31mAttributeError\u001b[0m: 'NoneType' object has no attribute 'find_next'"
     ]
    }
   ],
   "source": [
    "# test block\n",
    "\n",
    "i = 0\n",
    "for child in select1:\n",
    "    for ptr in range(2, 27):\n",
    "        if child.string.find(str(fl.iloc[3, ptr])) != (-1):\n",
    "            print(child.string + '@@@')\n",
    "            print(str(fl.iloc[3, ptr]) + '@@@')\n",
    "            print(child.find_next().find_next().string +'@@@')\n",
    "            \n",
    "            child_cpy = child.find_next().find_next()\n",
    "            ptr1 = 0 \n",
    "            while ptr1 < 4:\n",
    "                print(child_cpy.find_next().string)\n",
    "                ptr1 += 1\n",
    "                child_cpy = child.find_next()\n",
    "            print('~~~~~~~~~~~~~~~~')"
   ]
  },
  {
   "cell_type": "code",
   "execution_count": null,
   "metadata": {},
   "outputs": [
    {
     "name": "stderr",
     "output_type": "stream",
     "text": [
      "C:\\Users\\41713\\Anaconda3\\lib\\site-packages\\pandas\\core\\indexes\\api.py:107: RuntimeWarning: '<' not supported between instances of 'str' and 'int', sort order is undefined for incomparable objects\n",
      "  result = result.union(other)\n",
      "C:\\Users\\41713\\Anaconda3\\lib\\site-packages\\pandas\\core\\indexing.py:1472: FutureWarning: \n",
      "Passing list-likes to .loc or [] with any missing label will raise\n",
      "KeyError in the future, you can use .reindex() as an alternative.\n",
      "\n",
      "See the documentation here:\n",
      "https://pandas.pydata.org/pandas-docs/stable/indexing.html#deprecate-loc-reindex-listlike\n",
      "  return self._getitem_tuple(key)\n"
     ]
    }
   ],
   "source": [
    "# start updating\n",
    "\n",
    "# insert rows\n",
    "i = 0\n",
    "while i < 5:\n",
    "    fl = fl.append([np.nan], ignore_index = True)\n",
    "\n",
    "i = 0\n",
    "for child in select1:\n",
    "    for ptr in range(2, 27):\n",
    "        if child.string.find(str(fl.iloc[3, ptr])) != (-1):\n",
    "            fl.iloc[fl.iloc[:, 0].size+1, ptr] = child.find_next().find_next().string\n",
    "            # inner vertical updating loop initiallization\n",
    "            child_cpy = child.find_next().find_next()\n",
    "            ptr1 = 0 \n",
    "            while ptr1 < 4:\n",
    "                fl.iloc[fl.iloc[:, 0].size+(ptr1+2), ptr] = child_cpy.find_next().string\n",
    "                ptr1 += 1\n",
    "                child_cpy = child.find_next()"
   ]
  },
  {
   "cell_type": "code",
   "execution_count": null,
   "metadata": {},
   "outputs": [],
   "source": [
    "#运行这个模块\n",
    "DataFrame(er).to_excel('usd.xlsx', sheet_name='Sheet1', index=False, header=True)"
   ]
  },
  {
   "cell_type": "code",
   "execution_count": 25,
   "metadata": {},
   "outputs": [],
   "source": [
    "with open('rba_update.xlsx','wb') as handler:\n",
    "    handler.write(response.content)"
   ]
  },
  {
   "cell_type": "code",
   "execution_count": 35,
   "metadata": {},
   "outputs": [
    {
     "ename": "ModuleNotFoundError",
     "evalue": "No module named 'Redprint'",
     "output_type": "error",
     "traceback": [
      "\u001b[1;31m---------------------------------------------------------------------------\u001b[0m",
      "\u001b[1;31mModuleNotFoundError\u001b[0m                       Traceback (most recent call last)",
      "\u001b[1;32m<ipython-input-35-f116cf7e09b1>\u001b[0m in \u001b[0;36m<module>\u001b[1;34m()\u001b[0m\n\u001b[0;32m      2\u001b[0m \u001b[1;33m\u001b[0m\u001b[0m\n\u001b[0;32m      3\u001b[0m \u001b[1;32mfrom\u001b[0m \u001b[0mflask\u001b[0m \u001b[1;32mimport\u001b[0m \u001b[0mrequest\u001b[0m\u001b[1;33m\u001b[0m\u001b[0m\n\u001b[1;32m----> 4\u001b[1;33m \u001b[1;32mimport\u001b[0m \u001b[0mRedprint\u001b[0m\u001b[1;33m\u001b[0m\u001b[0m\n\u001b[0m\u001b[0;32m      5\u001b[0m \u001b[1;32mimport\u001b[0m \u001b[0mxlrd\u001b[0m\u001b[1;33m\u001b[0m\u001b[0m\n\u001b[0;32m      6\u001b[0m \u001b[1;33m\u001b[0m\u001b[0m\n",
      "\u001b[1;31mModuleNotFoundError\u001b[0m: No module named 'Redprint'"
     ]
    }
   ],
   "source": [
    "import requests\n",
    "\n",
    "from flask import request\n",
    "import Redprint\n",
    "import xlrd\n",
    "\n",
    "api = Redprint('voter')\n",
    "\n",
    "api.route('/addlist',methods = ['POST'])\n",
    "def voter_post():\n",
    "    data = request.get_json()#表单中存了json格式url  转化为 字典\n",
    "    Download_url = 'https://www.rba.gov.au/statistics/tables/xls-hist/2018-current.xls'\n",
    "    r = requests.get(Download_url)\n",
    "    f = open(\"rba_update.xls\",\"wb\")#项目路径下新增一个教师.xls文件 \n",
    "    f.write(r.content)\n",
    "    f.close()"
   ]
  },
  {
   "cell_type": "code",
   "execution_count": null,
   "metadata": {},
   "outputs": [],
   "source": [
    "def search_for_blank(ori_path, des_path):\n",
    "    er_ori = pd.read_excel('path of the file to replace')\n",
    "    er_des = pd.read_excel('path of the file to be replaced')\n",
    "    # fetch the latest recorded date\n",
    "    j = er_des.iloc[:, 0].size-1\n",
    "    k = er_ori.iloc[:, 0].size-1\n",
    "    final_date = er_des.iloc[j, 0]\n",
    "    for ptr in range(k, 0, -1):\n",
    "        if er_ori.iloc[ptr, 0]==final_date\n",
    "        break\n",
    "    # updating\n",
    "    sum_count = 0\n",
    "    for ptr1 in range(ptr+1, k):\n",
    "        count = 1\n",
    "        while er_ori.iloc[ptr1, 0]+count != er_ori.iloc[ptr1+1, 0]:\n",
    "            count += 1\n",
    "        sum_count += count\n",
    "        # automatical fix\n",
    "        er_des.iloc[er_des.iloc[:, 0].size-1+count, 0] = er_ori.iloc[ptr1, 0]\n",
    "        "
   ]
  },
  {
   "cell_type": "code",
   "execution_count": null,
   "metadata": {},
   "outputs": [],
   "source": [
    "er_ori = pd.read_excel('')\n",
    "er_des = pd.read_excel('')\n",
    "search_for_blank(ori_path, des_path)"
   ]
  }
 ],
 "metadata": {
  "kernelspec": {
   "display_name": "Python 3",
   "language": "python",
   "name": "python3"
  },
  "language_info": {
   "codemirror_mode": {
    "name": "ipython",
    "version": 3
   },
   "file_extension": ".py",
   "mimetype": "text/x-python",
   "name": "python",
   "nbconvert_exporter": "python",
   "pygments_lexer": "ipython3",
   "version": "3.7.0"
  }
 },
 "nbformat": 4,
 "nbformat_minor": 2
}
